{
 "cells": [
  {
   "cell_type": "markdown",
   "metadata": {},
   "source": [
    "# Time Series from Scratch\n",
    "The goal of this notebook is to start from some basics that many of us know and build a basic knowledge about time series. This gives us power to handle many different timeseries with appropriate technique.\n",
    "\n",
    "The assumption is that we know\n",
    "- Random Walk\n",
    "- Fourier Series\n",
    "- Fourier Transform"
   ]
  },
  {
   "cell_type": "markdown",
   "metadata": {},
   "source": [
    "#### Example of timeseries:\n",
    "- daily outdoor temperature\n",
    "- stock market\n",
    "- exchange rate (e.g. dollar to euro)\n",
    "- piece of music\n",
    "\n",
    "#### What kind of problem:\n",
    "- Prediction:\n",
    "    - Price for tomorrow\n",
    "    - Revenue of the next month\n",
    "    - Tomorrow's temperature\n",
    "    - Mimic the style of music (generate a new music in the same genre)\n",
    "    - Predicting text\n",
    "- Classification:\n",
    "    - Anomaly detection"
   ]
  },
  {
   "cell_type": "markdown",
   "metadata": {},
   "source": [
    "#### Why do we treat timeseries differently?\n",
    "Many problems in DS are time-dependent, house pricing, customer churn, ... \n",
    "- slow & fast change\n",
    "- strong auto-correlation between past, present, and it is expected to be also future.\n",
    "- hypothesis that either time is the most important feature or many other features also depend on time. \n"
   ]
  },
  {
   "cell_type": "markdown",
   "metadata": {},
   "source": [
    "### More Formal Definition\n",
    "A basic definition of timeseries can be given as a time-dependent dataset that persumably evey data point is a stochastic function of past points. In other words\n",
    "$$\n",
    "y_i = f(y_{i-1}, y_{i-2}, \\ldots)\n",
    "$$\n",
    "\n",
    "A process that each point has a non-zero correlation with data in past. Let consider a simple example of $y_i = y(t_i) = A\\sin(t_i)$. The next time step would be \n",
    "$$\n",
    "y_{i+1} = y_i + \\Delta t\n",
    "$$\n",
    "We can realize\n",
    "\n",
    "\\begin{align}\n",
    "y_{i+1} &= y(t_{i+1}) = A\\sin(t_{i+1})\\\\\n",
    "&=A\\sin(t_i + \\Delta t) \\\\\n",
    "&= A y_i\\cos(\\Delta t) + \\sqrt{1-y^2} \\sin(\\Delta t)\\\\\n",
    "&= A[y_i + \\Delta(1 - y_i^2)^{1/2}]\n",
    "\\end{align}\n",
    "where is the last line we use the fact that for $\\Delta t \\ll 1$, $\\sin(\\Delta t) = \\Delta t, \\text{and } \\cos(\\Delta t) = 1$.\n"
   ]
  },
  {
   "cell_type": "markdown",
   "metadata": {},
   "source": [
    "### What is correlation?\n",
    "Let imagine a random variable $X$, the distribution of generated points by such process is described by a density function of $\\rho(x)$, the number of points in the range $x$ and $x+dx$ equals\n",
    "$$ \\rho(x)dx $$\n",
    "\n",
    "Now, let consider two random variables $X$ and $Y$, the joint distribution of two variable is described by \n",
    "$$\\rho(x,y)$$\n",
    "\n",
    "In case that two variables are independent, the joint probability can be written as multiplication of each distribution \n",
    "$$\\rho(x,y) = \\rho(x)\\rho(y)$$. The correlation between two random variables is defined as \n",
    "$$corr(x,y) = \\int dx \\int dy (x-\\bar{x})(y-\\bar{y})\\rho(x,y)$$\n",
    "If the random varibles are independent then the correlation as it is expected would be zero\n",
    "\\begin{aligned}\n",
    "    corr(x,y) &= \\int dx \\int dy (x-\\bar{x})(y-\\bar{y})\\rho(x,y)\\\\\n",
    "              &= \\int dx (x-\\bar{x})\\rho(x) \\int dy (y-\\bar{y})\\rho(y)\\\\\n",
    "              &= 0\\times 0\n",
    "\\end{aligned}\n",
    "\n",
    "If $x$ and $y$ are not indepenedent, can we get anything intresting from conditional probability\n",
    "$$ p(x|y) = \\frac{p(x,y)}{p(y)}$$\n",
    "\n",
    "Time-series can be seen as a supervised learning with features of $y_{i-l}, \\ldots, y_i$ and target of $y_{i+1}$ or\n",
    "$$ y_{i+1} = f(y_i, \\ldots, y_{i-l}) $$\n",
    "\n",
    "It is expected that the autocorrelation between two elements of a time-series will be exponentially decrease by the distance.\n",
    "$$corr(y_i, y_{i+1}) \\propto e^{-l}$$"
   ]
  },
  {
   "cell_type": "markdown",
   "metadata": {},
   "source": [
    "To test this hypothesis let generate a random walk then test"
   ]
  },
  {
   "cell_type": "markdown",
   "metadata": {},
   "source": [
    "## Generating Data"
   ]
  },
  {
   "cell_type": "code",
   "execution_count": 11,
   "metadata": {},
   "outputs": [],
   "source": [
    "import numpy as np\n",
    "import matplotlib.pyplot as pl\n",
    "\n",
    "import pandas as pd"
   ]
  },
  {
   "cell_type": "code",
   "execution_count": 12,
   "metadata": {},
   "outputs": [],
   "source": [
    "def rw_generator(N: int, x_0 = 0, p_left=0.5):\n",
    "    \"\"\" generates N steps according to probability to take a step to \n",
    "    left with p_left and to right 1-p_left\n",
    "    \n",
    "    input:\n",
    "    ------\n",
    "    N(int): Number of steps\n",
    "    x_0(int): initial position\n",
    "    p_left(float): probability to take a step left\n",
    "    \n",
    "    return:\n",
    "    -------\n",
    "    array(N): random walk series\n",
    "    \"\"\"\n",
    "    steps = [x_0] + [ 1 if (i>p_left) else -1 for i in np.random.random(N-1)]\n",
    "    return np.add.accumulate(steps)"
   ]
  },
  {
   "cell_type": "code",
   "execution_count": 13,
   "metadata": {},
   "outputs": [],
   "source": [
    "# Fourier series \n",
    "def periodic_generator(coeffs: list, x):\n",
    "    \"\"\"generates a fourier series for given coefficient\n",
    "    input:\n",
    "    ======\n",
    "    coeffs(list): list of coefficient\n",
    "    x(N): np array\n",
    "    return:\n",
    "    =======\n",
    "    y(N): np array\n",
    "    \"\"\"\n",
    "    y = np.zeros(x.shape[0])\n",
    "    num_terms = len(coeffs)\n",
    "    for i in range(num_terms):\n",
    "        y += coeffs[i]*np.sin(i*x)\n",
    "    return y"
   ]
  },
  {
   "cell_type": "code",
   "execution_count": 14,
   "metadata": {},
   "outputs": [],
   "source": [
    "# random coefficient generator\n",
    "def coeff_generator(N:int):\n",
    "    return np.random.rand(N).tolist()"
   ]
  },
  {
   "cell_type": "code",
   "execution_count": 15,
   "metadata": {},
   "outputs": [],
   "source": [
    "# trend \n",
    "def trend_generator(coeffs: np.array, x: np.array):\n",
    "    \"\"\"generates a trend for given coefficient for polynomial terms\n",
    "    input:\n",
    "    ======\n",
    "    coeffs(np.array): list of polynomial coeeficient\n",
    "    x(N): np array\n",
    "    return:\n",
    "    =======\n",
    "    y(N): np array\n",
    "    \"\"\"\n",
    "    i = 1\n",
    "    y = np.zeros(x.shape[0])\n",
    "    for l in coeffs:\n",
    "        y += l * x**i\n",
    "        i +=1\n",
    "    return y"
   ]
  },
  {
   "cell_type": "code",
   "execution_count": 16,
   "metadata": {},
   "outputs": [
    {
     "data": {
      "text/plain": [
       "[0.6122450967572403, 0.6108769506488902, 0.2760974983178477]"
      ]
     },
     "execution_count": 16,
     "metadata": {},
     "output_type": "execute_result"
    }
   ],
   "source": [
    "coeff_generator(3)"
   ]
  },
  {
   "cell_type": "code",
   "execution_count": 17,
   "metadata": {},
   "outputs": [
    {
     "data": {
      "image/png": "[encoded data removed]",
      "text/plain": [
       "<Figure size 432x288 with 1 Axes>"
      ]
     },
     "metadata": {
      "needs_background": "light"
     },
     "output_type": "display_data"
    }
   ],
   "source": [
    "coeffs = [0.1, 0.2, 0.3, 0, 0, 0.2, 0.0, 0.4]\n",
    "x = np.linspace(-np.pi, np.pi,100)\n",
    "y = periodic_generator(coeffs, x)\n",
    "\n",
    "pl.plot(x,y)\n",
    "pl.show()"
   ]
  },
  {
   "cell_type": "code",
   "execution_count": 18,
   "metadata": {},
   "outputs": [
    {
     "data": {
      "image/png": "[encoded data removed]",
      "text/plain": [
       "<Figure size 432x288 with 1 Axes>"
      ]
     },
     "metadata": {
      "needs_background": "light"
     },
     "output_type": "display_data"
    }
   ],
   "source": [
    "coeffs = [0.1, 0.2, 0.3, 0, 0, 0.2, 0.0, 0.4]\n",
    "x = np.linspace(-2, 2,100)\n",
    "y = trend_generator(coeffs = 0.5 - np.random.rand(4), x=x)\n",
    "\n",
    "pl.plot(x,y)\n",
    "pl.show()"
   ]
  },
  {
   "cell_type": "code",
   "execution_count": 19,
   "metadata": {},
   "outputs": [],
   "source": [
    "Y = rw_generator(1000)"
   ]
  },
  {
   "cell_type": "code",
   "execution_count": 20,
   "metadata": {},
   "outputs": [
    {
     "data": {
      "image/png": "[encoded data removed]",
      "text/plain": [
       "<Figure size 576x432 with 1 Axes>"
      ]
     },
     "metadata": {
      "needs_background": "light"
     },
     "output_type": "display_data"
    }
   ],
   "source": [
    "fig  = pl.figure(figsize=(8,6))\n",
    "ax = fig.add_subplot(111)\n",
    "ax.plot(Y)\n",
    "pl.show()"
   ]
  },
  {
   "cell_type": "markdown",
   "metadata": {},
   "source": [
    "### Time-series generator\n",
    "Three important element\n",
    "- [X] stochastic\n",
    "- [X] periodic\n",
    "- [X] trend\n",
    "\n",
    "These element can come togheter as an `additive` or `multiplitive` model.\n",
    "\n",
    "Asymmetric random walk that can lead to trend. "
   ]
  },
  {
   "cell_type": "code",
   "execution_count": 21,
   "metadata": {},
   "outputs": [],
   "source": [
    "class TimeSeries:\n",
    "    \"\"\" class to generate a timeseries. It can have any or all components of\n",
    "    - random walk\n",
    "    - fourier terms (sin)\n",
    "    - trend, a slow funcition that envlope the others\n",
    "    \"\"\"\n",
    "    \n",
    "    #########\n",
    "    def __init__(self, random_walk=True, frourier_term=True, trend=True, length=100):\n",
    "        # random-walk component         \n",
    "        self.rw_cmp = rw_generator(N = length)\n",
    "        # fourier component\n",
    "        coeffs = coeff_generator(4)\n",
    "        x = np.linspace(0, 2*np.pi, length)\n",
    "        self.fr_cmp = periodic_generator(coeffs = coeffs, x=x )\n",
    "        # trend component\n",
    "        x = np.linspace(-2, 2,length)\n",
    "        self.trend_cmp = trend_generator(coeffs = 0.5 - np.random.rand(4), x=x)\n",
    "        \n",
    "        self.ts_array = self.rw_cmp + self.fr_cmp + self.trend_cmp\n",
    "        \n",
    "    ##########  \n",
    "    # random-walk generator\n",
    "    ##########  \n",
    "    def rw_generator(N: int, x_0 = 0, p_left=0.5):\n",
    "        \"\"\" generates N steps according to probability to take a step to \n",
    "        left with p_left and to right 1-p_left\n",
    "\n",
    "        input:\n",
    "        ------\n",
    "        N(int): Number of steps\n",
    "        x_0(int): initial position\n",
    "        p_left(float): probability to take a step left\n",
    "\n",
    "        return:\n",
    "        -------\n",
    "        array(N): random walk series\n",
    "        \"\"\"\n",
    "        steps = [x_0] + [ 1 if (i>p_left) else -1 for i in np.random.random(N-1)]\n",
    "        return np.add.accumulate(steps)\n",
    "\n",
    "    ##########\n",
    "    # Fourier series \n",
    "    ##########\n",
    "    def periodic_generator(coeffs: list, x):\n",
    "        \"\"\"generates a fourier series for given coefficient\n",
    "        input:\n",
    "        ======\n",
    "        coeffs(list): list of coefficient\n",
    "        x(N): np array\n",
    "        return:\n",
    "        =======\n",
    "        y(N): np array\n",
    "        \"\"\"\n",
    "        y = np.zeros(x.shape[0])\n",
    "        num_terms = len(coeffs)\n",
    "        for i in range(num_terms):\n",
    "            y += coeffs[i]*np.sin(i*x)\n",
    "        return y\n",
    "    \n",
    "    ##########\n",
    "    # random coefficient generator\n",
    "    ##########\n",
    "    def coeff_generator(N:int):\n",
    "        \"\"\"generate a list of random numbers\n",
    "        N: length of list\n",
    "        \"\"\"\n",
    "        return np.random.rand(N).tolist()\n",
    "    ##########\n",
    "    # trend generator\n",
    "    ##########\n",
    "    def trend_generator(coeffs: np.array, x: np.array):\n",
    "        \"\"\"generates a trend for given coefficient for polynomial terms\n",
    "        input:\n",
    "        ======\n",
    "        coeffs(np.array): list of polynomial coeeficient\n",
    "        x(N): np array\n",
    "        return:\n",
    "        =======\n",
    "        y(N): np array\n",
    "        \"\"\"\n",
    "        i = 1\n",
    "        y = np.zeros(x.shape[0])\n",
    "        for l in coeffs:\n",
    "            y += l * x**i\n",
    "            i +=1\n",
    "        return y"
   ]
  },
  {
   "cell_type": "code",
   "execution_count": 22,
   "metadata": {},
   "outputs": [
    {
     "data": {
      "text/plain": [
       "[<matplotlib.lines.Line2D at 0x7fc863196f50>]"
      ]
     },
     "execution_count": 22,
     "metadata": {},
     "output_type": "execute_result"
    },
    {
     "data": {
      "image/png": "[encoded data removed]",
      "text/plain": [
       "<Figure size 432x288 with 1 Axes>"
      ]
     },
     "metadata": {
      "needs_background": "light"
     },
     "output_type": "display_data"
    }
   ],
   "source": [
    "ts1 = TimeSeries(length=1000)\n",
    "pl.plot(ts1.ts_array, color='blue',alpha=0.2)\n",
    "# pl.plot(ts1.rw_cmp , color='green',alpha=0.2)\n",
    "pl.plot(ts1.fr_cmp , color='green',alpha=0.2)\n"
   ]
  },
  {
   "cell_type": "code",
   "execution_count": 24,
   "metadata": {},
   "outputs": [],
   "source": [
    "# ts1.ts_array"
   ]
  },
  {
   "cell_type": "code",
   "execution_count": 26,
   "metadata": {},
   "outputs": [],
   "source": [
    "N = Y.shape[0]\n",
    "crr = []\n",
    "for l in range(1,200,10):\n",
    "    yi = Y[0:N-l]\n",
    "    yil = Y[l:N]\n",
    "    crr.append( np.corrcoef(yi, yil)[0,1] )\n",
    "    \n",
    "crr;"
   ]
  },
  {
   "cell_type": "code",
   "execution_count": 27,
   "metadata": {},
   "outputs": [
    {
     "data": {
      "text/plain": [
       "[<matplotlib.lines.Line2D at 0x7fc8634ae390>]"
      ]
     },
     "execution_count": 27,
     "metadata": {},
     "output_type": "execute_result"
    },
    {
     "data": {
      "image/png": "[encoded data removed]",
      "text/plain": [
       "<Figure size 432x288 with 1 Axes>"
      ]
     },
     "metadata": {
      "needs_background": "light"
     },
     "output_type": "display_data"
    }
   ],
   "source": [
    "pl.plot(range(20),crr)\n",
    "# It was expected that the corrlation would decrease by increasing the distance, but apparntly it did not."
   ]
  },
  {
   "cell_type": "markdown",
   "metadata": {},
   "source": [
    "## Data Analysis"
   ]
  },
  {
   "cell_type": "markdown",
   "metadata": {},
   "source": [
    "Metrics for Data Analysis:\n",
    "- Auto-Correlation\n",
    "- Decomposition"
   ]
  },
  {
   "cell_type": "markdown",
   "metadata": {},
   "source": [
    "## Modelling"
   ]
  },
  {
   "cell_type": "code",
   "execution_count": 35,
   "metadata": {},
   "outputs": [],
   "source": [
    "def moving_window(x: np.array, window: int):\n",
    "    reduce_size = x.shape[0] - window\n",
    "    x_mtx = np.zeros((reduce_size,window))\n",
    "    y_mtx = np.zeros(reduce_size)\n",
    "    for i in range(reduce_size):\n",
    "        x_mtx[i,:] = x[i:i+window]\n",
    "        y_mtx[i] = x[i+window]\n",
    "    return x_mtx, y_mtx"
   ]
  },
  {
   "cell_type": "code",
   "execution_count": 36,
   "metadata": {},
   "outputs": [],
   "source": [
    "x = np.linspace(1,100,100)"
   ]
  },
  {
   "cell_type": "code",
   "execution_count": 41,
   "metadata": {},
   "outputs": [],
   "source": [
    "xx, yy = moving_window(x, 4)"
   ]
  },
  {
   "cell_type": "code",
   "execution_count": 45,
   "metadata": {},
   "outputs": [
    {
     "data": {
      "text/plain": [
       "True"
      ]
     },
     "execution_count": 45,
     "metadata": {},
     "output_type": "execute_result"
    }
   ],
   "source": [
    "xx.shape[0] == yy.shape[0]"
   ]
  }
 ],
 "metadata": {
  "kernelspec": {
   "display_name": "Python 3",
   "language": "python",
   "name": "python3"
  },
  "language_info": {
   "codemirror_mode": {
    "name": "ipython",
    "version": 3
   },
   "file_extension": ".py",
   "mimetype": "text/x-python",
   "name": "python",
   "nbconvert_exporter": "python",
   "pygments_lexer": "ipython3",
   "version": "3.7.6"
  }
 },
 "nbformat": 4,
 "nbformat_minor": 4
}
